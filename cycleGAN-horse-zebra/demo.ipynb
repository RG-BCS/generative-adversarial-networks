{
  "nbformat": 4,
  "nbformat_minor": 0,
  "metadata": {
    "colab": {
      "provenance": []
    },
    "kernelspec": {
      "name": "python3",
      "display_name": "Python 3"
    },
    "language_info": {
      "name": "python"
    }
  },
  "cells": [
    {
      "cell_type": "markdown",
      "source": [
        "# CycleGAN Demo: Horse ↔ Zebra Translation\n",
        "\n",
        "This notebook demonstrates how to train and evaluate a CycleGAN model on unpaired image-to-image translation using the Horse ↔ Zebra dataset.\n",
        "\n",
        "**Highlights:**\n",
        "- Unpaired image translation with CycleGAN\n",
        "- Instance normalization and PatchGAN discriminator\n",
        "- Training monitoring with loss and gradient plots\n",
        "- Visual evaluation on test set\n",
        "\n",
        "----\n",
        "Imports"
      ],
      "metadata": {
        "id": "yBctQM-C7WyS"
      }
    },
    {
      "cell_type": "code",
      "source": [
        "import numpy as np\n",
        "import tensorflow as tf\n",
        "from tensorflow import keras\n",
        "import matplotlib.pyplot as plt\n",
        "import time\n",
        "from IPython import display\n",
        "\n",
        "from models import CycleGAN_Generator, CycleGAN_Discriminator\n",
        "from utils import train_model, plot_training_metrics, evaluate_on_testset\n",
        "from dataset import train_horses, train_zebras, test_horses, test_zebras\n"
      ],
      "metadata": {
        "id": "QrGdS9xH7aF3"
      },
      "execution_count": null,
      "outputs": []
    },
    {
      "cell_type": "markdown",
      "source": [
        "## Seed and Hyperparameters\n"
      ],
      "metadata": {
        "id": "3nQpAKpY9lhi"
      }
    },
    {
      "cell_type": "code",
      "source": [
        "# For reproducibility\n",
        "seed = 42\n",
        "keras.backend.clear_session()\n",
        "tf.random.set_seed(seed)\n",
        "np.random.seed(seed)\n",
        "\n",
        "# Hyperparameters\n",
        "LAMBDA = 10\n",
        "NUM_EPOCHS = 20\n",
        "LEARNING_RATE = 2e-4\n",
        "BETA_1 = 0.5\n"
      ],
      "metadata": {
        "id": "p8BAJJft7hW2"
      },
      "execution_count": null,
      "outputs": []
    },
    {
      "cell_type": "markdown",
      "source": [
        "## Model Instantiation"
      ],
      "metadata": {
        "id": "HpHqxiSD9rK5"
      }
    },
    {
      "cell_type": "code",
      "source": [
        "# Instantiate Generators\n",
        "gen_A2B = CycleGAN_Generator(input_image_size=(256, 256, 3), norm_type='instancenorm')\n",
        "gen_B2A = CycleGAN_Generator(input_image_size=(256, 256, 3), norm_type='instancenorm')\n",
        "gen_A2B_optimizer = keras.optimizers.Adam(LEARNING_RATE, BETA_1)\n",
        "gen_B2A_optimizer = keras.optimizers.Adam(LEARNING_RATE, BETA_1)\n",
        "\n",
        "# Instantiate Discriminators\n",
        "disc_A = CycleGAN_Discriminator(norm_type='instancenorm')\n",
        "disc_B = CycleGAN_Discriminator(norm_type='instancenorm')\n",
        "disc_A_optimizer = keras.optimizers.Adam(LEARNING_RATE, BETA_1)\n",
        "disc_B_optimizer = keras.optimizers.Adam(LEARNING_RATE, BETA_1)\n"
      ],
      "metadata": {
        "id": "0EnDD9E09tuI"
      },
      "execution_count": null,
      "outputs": []
    },
    {
      "cell_type": "markdown",
      "source": [
        "## Train the CycleGAN model\n"
      ],
      "metadata": {
        "id": "6adsBHRE9v6B"
      }
    },
    {
      "cell_type": "code",
      "source": [
        "results = train_model(\n",
        "    gen_A2B, gen_B2A,\n",
        "    gen_A2B_optimizer, gen_B2A_optimizer,\n",
        "    disc_A, disc_B,\n",
        "    disc_A_optimizer, disc_B_optimizer,\n",
        "    train_horses, train_zebras,\n",
        "    num_epochs=NUM_EPOCHS,\n",
        "    clip_norm=False,\n",
        "    max_norm=1.0,\n",
        "    LAMBDA=LAMBDA\n",
        ")\n",
        "\n",
        "total_gen_1_loss, total_gen_2_loss, total_disc_1_loss, total_disc_2_loss, \\\n",
        "gen_1_grad_norms, gen_2_grad_norms, disc_1_grad_norms, disc_2_grad_norms = results\n"
      ],
      "metadata": {
        "id": "Qyl0h6eE90Z1"
      },
      "execution_count": null,
      "outputs": []
    },
    {
      "cell_type": "markdown",
      "source": [
        "## Training Metrics and curves\n"
      ],
      "metadata": {
        "id": "EZ70cxKL927g"
      }
    },
    {
      "cell_type": "code",
      "source": [
        "training_metrics = {\n",
        "    \"gen_A2B_loss\": total_gen_1_loss,\n",
        "    \"gen_B2A_loss\": total_gen_2_loss,\n",
        "    \"disc_A_loss\": total_disc_1_loss,\n",
        "    \"disc_B_loss\": total_disc_2_loss,\n",
        "    \"gen_A2B_grad_norm\": gen_1_grad_norms,\n",
        "    \"gen_B2A_grad_norm\": gen_2_grad_norms,\n",
        "    \"disc_A_grad_norm\": disc_1_grad_norms,\n",
        "    \"disc_B_grad_norm\": disc_2_grad_norms\n",
        "}\n",
        "\n",
        "plot_training_metrics(training_metrics)\n"
      ],
      "metadata": {
        "id": "L4v5CwzB95-b"
      },
      "execution_count": null,
      "outputs": []
    },
    {
      "cell_type": "markdown",
      "source": [
        "## Evaluate Horse -> Zebra"
      ],
      "metadata": {
        "id": "65pzVbXG98x_"
      }
    },
    {
      "cell_type": "code",
      "source": [
        "evaluate_on_testset(gen_A2B, test_horses, direction='Horse to Zebra', save_images=False)\n"
      ],
      "metadata": {
        "id": "Eg02J65K9_Tl"
      },
      "execution_count": null,
      "outputs": []
    },
    {
      "cell_type": "markdown",
      "source": [
        "# Evaluate Zebra -> Horse"
      ],
      "metadata": {
        "id": "VNqNVlPHin5K"
      }
    },
    {
      "cell_type": "code",
      "source": [
        "evaluate_on_testset(gen_B2A, test_zebras, direction='Zebra to Horse', save_images=False)\n"
      ],
      "metadata": {
        "id": "PIDwrB_hil75"
      },
      "execution_count": null,
      "outputs": []
    },
    {
      "cell_type": "markdown",
      "source": [
        "## Conclusion\n",
        "\n",
        "In this demo, we trained a CycleGAN model to translate between horses and zebras using unpaired image datasets.\n",
        "\n",
        "**What we did:**\n",
        "- Built custom generators and discriminators\n",
        "- Trained the model with cycle consistency and identity loss\n",
        "- Visualized training progress\n",
        "- Evaluated the model on test images\n",
        "\n",
        "**Next steps you can explore:**\n",
        "- Train for longer (e.g., 60–100 epochs)\n",
        "- Add model checkpointing and learning rate schedulers\n",
        "- Apply to other unpaired datasets\n",
        "\n",
        "Thanks for trying out this demo!\n"
      ],
      "metadata": {
        "id": "Mlg7Vkkj-Hz7"
      }
    }
  ]
}