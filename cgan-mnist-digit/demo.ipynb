{
  "nbformat": 4,
  "nbformat_minor": 0,
  "metadata": {
    "colab": {
      "provenance": []
    },
    "kernelspec": {
      "name": "python3",
      "display_name": "Python 3"
    },
    "language_info": {
      "name": "python"
    }
  },
  "cells": [
    {
      "cell_type": "markdown",
      "source": [
        "# Conditional GAN on MNIST Digits\n",
        "\n",
        "This demo shows how to train a **Conditional GAN** to generate MNIST digits (0–9) based on their class labels.\n",
        "\n",
        "### Features:\n",
        "- Label-conditioned generator and discriminator\n",
        "- Stable training with fast convergence (2–3 epochs)\n",
        "- Beautiful image samples with minimal tuning\n",
        "\n",
        "Let's dive in!\n"
      ],
      "metadata": {
        "id": "FLaQ4KwueqpI"
      }
    },
    {
      "cell_type": "code",
      "source": [
        "import numpy as np\n",
        "import pandas as pd\n",
        "import tensorflow as tf\n",
        "import matplotlib.pyplot as plt\n",
        "from tensorflow import keras\n",
        "from IPython.display import clear_output\n",
        "import os, time\n",
        "from model import CGAN_MNIST_Digits_2\n",
        "from utils import train_model, plot_generated_images_tf\n"
      ],
      "metadata": {
        "id": "On8-7MJTev2G"
      },
      "execution_count": null,
      "outputs": []
    },
    {
      "cell_type": "markdown",
      "source": [
        "# **Configuration and Dataset**"
      ],
      "metadata": {
        "id": "Heq9bK5Ke-iE"
      }
    },
    {
      "cell_type": "code",
      "source": [
        "keras.backend.clear_session()\n",
        "tf.random.set_seed(29)\n",
        "np.random.seed(29)\n",
        "\n",
        "NUM_EPOCHS = 10\n",
        "BUFFER_SIZE = 70000\n",
        "BATCH_SIZE = 256\n",
        "LATENT_DIM = 100\n",
        "IMAGE_SHAPE = (28, 28, 1)\n",
        "CLASS_LABELS = 10\n",
        "LOSS_TYPE = 'vanilla'\n",
        "LEARNING_RATE = 1e-3\n",
        "\n",
        "(train_images, train_labels), (valid_images, valid_labels) = keras.datasets.mnist.load_data()\n",
        "\n",
        "train_images = ((np.reshape(train_images, (-1, 28, 28, 1)).astype('float32')) / 255.0) * 2.0 - 1.0\n",
        "valid_images = ((np.reshape(valid_images, (-1, 28, 28, 1)).astype('float32')) / 255.0) * 2.0 - 1.0\n",
        "\n",
        "all_images = np.concatenate([train_images, valid_images], axis=0)\n",
        "all_labels = np.concatenate([train_labels, valid_labels], axis=0)\n",
        "\n",
        "train_dataset = tf.data.Dataset.from_tensor_slices((all_images, all_labels))\n",
        "train_dataset = train_dataset.shuffle(BUFFER_SIZE).batch(BATCH_SIZE, drop_remainder=True)\n"
      ],
      "metadata": {
        "id": "dwYyTZpCfOXo"
      },
      "execution_count": null,
      "outputs": []
    },
    {
      "cell_type": "markdown",
      "source": [
        "# **Model Initialization and Training**"
      ],
      "metadata": {
        "id": "IAofghTAfViN"
      }
    },
    {
      "cell_type": "code",
      "source": [
        "model_cgan = CGAN_MNIST_Digits_2(\n",
        "    latent_dim=LATENT_DIM,\n",
        "    image_size=IMAGE_SHAPE,\n",
        "    dropout=0.45,\n",
        "    alpha=0.2,\n",
        "    class_labels=CLASS_LABELS\n",
        ")\n",
        "\n",
        "gen_optimizer = keras.optimizers.Adam(2 * LEARNING_RATE, 0.5)\n",
        "disc_optimizer = keras.optimizers.Adam(2 * LEARNING_RATE, 0.5)\n",
        "\n",
        "fixed_z = tf.random.normal(shape=[16, LATENT_DIM])\n",
        "fixed_label = tf.random.uniform(shape=(16,), minval=0, maxval=10, dtype=tf.int32)\n",
        "\n",
        "gen_losses, disc_losses, gen_grad_norms, disc_grad_norms = train_model(\n",
        "    model_cgan, gen_optimizer, disc_optimizer, train_dataset, NUM_EPOCHS,\n",
        "    fixed_z, fixed_label, loss_type=LOSS_TYPE, lambda_gp=10.0,\n",
        "    clip_norm=True, max_norm=5.0\n",
        ")\n"
      ],
      "metadata": {
        "id": "iCLKlIGffbYT"
      },
      "execution_count": null,
      "outputs": []
    },
    {
      "cell_type": "markdown",
      "source": [
        "# **Training Metrics Plots**"
      ],
      "metadata": {
        "id": "tGUh0-Mffd8Y"
      }
    },
    {
      "cell_type": "code",
      "source": [
        "df = pd.DataFrame({\n",
        "    'gen_loss': gen_losses,\n",
        "    'disc_loss': disc_losses,\n",
        "    'gen_grad_norm': gen_grad_norms,\n",
        "    'disc_grad_norm': disc_grad_norms\n",
        "})\n",
        "\n",
        "df[['gen_grad_norm', 'disc_grad_norm']].plot(figsize=(8, 5), title=\"Gradient Norms\")\n",
        "plt.grid()\n",
        "plt.xlabel(\"Epoch\")\n",
        "plt.ylabel(\"L2 Norm\")\n",
        "plt.show()\n",
        "\n",
        "df[['gen_loss', 'disc_loss']].plot(figsize=(8, 5), title=\"Generator and Discriminator Loss\")\n",
        "plt.grid()\n",
        "plt.xlabel(\"Epoch\")\n",
        "plt.ylabel(\"Loss\")\n",
        "plt.show()\n"
      ],
      "metadata": {
        "id": "BuGFzjV7fu8X"
      },
      "execution_count": null,
      "outputs": []
    },
    {
      "cell_type": "markdown",
      "source": [
        "# **Generate Image Grids (Label 5, 8, 4, 2)**"
      ],
      "metadata": {
        "id": "3NGwE-V6f1Nr"
      }
    },
    {
      "cell_type": "code",
      "source": [
        "plot_generated_images_tf(model_cgan, digit_label=5, latent_dim=LATENT_DIM, grid_dim=15, dim1=0, dim2=1)\n",
        "plot_generated_images_tf(model_cgan, digit_label=8, latent_dim=LATENT_DIM, grid_dim=15, dim1=0, dim2=1)\n",
        "plot_generated_images_tf(model_cgan, digit_label=4, latent_dim=LATENT_DIM, grid_dim=15, dim1=0, dim2=1)\n",
        "plot_generated_images_tf(model_cgan, digit_label=2, latent_dim=LATENT_DIM, grid_dim=15, dim1=0, dim2=1)\n"
      ],
      "metadata": {
        "id": "vuAAd56xfyNo"
      },
      "execution_count": null,
      "outputs": []
    },
    {
      "cell_type": "markdown",
      "source": [
        "## Conclusion\n",
        "\n",
        "This CGAN architecture delivers **sharp, class-conditioned digits** with **very stable training**, often requiring just 2–3 epochs!\n",
        "\n",
        "### Key Strengths:\n",
        "- Uses label embeddings for both generator and discriminator\n",
        "- Performs well with basic `vanilla GAN` loss\n",
        "- Gradient norms stay well-behaved even as quality improves\n",
        "\n",
        "---\n",
        "\n",
        "Thanks for exploring this project!\n",
        "Happy GAN-ing!\n"
      ],
      "metadata": {
        "id": "y14XpmTJf66f"
      }
    }
  ]
}