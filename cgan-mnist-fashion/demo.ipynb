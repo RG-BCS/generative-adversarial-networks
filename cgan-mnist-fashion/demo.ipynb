{
  "nbformat": 4,
  "nbformat_minor": 0,
  "metadata": {
    "colab": {
      "provenance": []
    },
    "kernelspec": {
      "name": "python3",
      "display_name": "Python 3"
    },
    "language_info": {
      "name": "python"
    }
  },
  "cells": [
    {
      "cell_type": "markdown",
      "source": [
        "# Conditional GAN on Fashion-MNIST\n",
        "\n",
        "This notebook demonstrates training a **Conditional Generative Adversarial Network (CGAN)** on the **Fashion-MNIST** dataset using TensorFlow 2.x. The model learns to generate grayscale images (28×28) of clothing items, conditioned on class labels.\n",
        "\n",
        "---\n",
        "\n",
        "## Setup & Imports\n"
      ],
      "metadata": {
        "id": "yBctQM-C7WyS"
      }
    },
    {
      "cell_type": "code",
      "source": [
        "import os\n",
        "import numpy as np\n",
        "import pandas as pd\n",
        "import tensorflow as tf\n",
        "from tensorflow import keras\n",
        "import matplotlib.pyplot as plt\n",
        "from IPython import display\n",
        "\n",
        "from model import CGAN_MNIST_Fashion\n",
        "import utils"
      ],
      "metadata": {
        "id": "QrGdS9xH7aF3"
      },
      "execution_count": null,
      "outputs": []
    },
    {
      "cell_type": "markdown",
      "source": [
        "## Load and preprocess Fashion-MNIST dataset\n"
      ],
      "metadata": {
        "id": "3nQpAKpY9lhi"
      }
    },
    {
      "cell_type": "code",
      "source": [
        "(train_images, train_labels), (valid_images, valid_labels) = keras.datasets.fashion_mnist.load_data()\n",
        "\n",
        "train_images = ((np.reshape(train_images, (-1, 28, 28, 1)).astype('float32')) / 255.0) * 2.0 - 1.0\n",
        "valid_images = ((np.reshape(valid_images, (-1, 28, 28, 1)).astype('float32')) / 255.0) * 2.0 - 1.0\n",
        "\n",
        "all_images = np.concatenate([train_images, valid_images], axis=0)\n",
        "all_labels = np.concatenate([train_labels, valid_labels], axis=0)\n",
        "\n",
        "BUFFER_SIZE = len(all_images)\n",
        "BATCH_SIZE = 256\n",
        "\n",
        "train_dataset = tf.data.Dataset.from_tensor_slices((all_images, all_labels))\n",
        "train_dataset = train_dataset.shuffle(BUFFER_SIZE).batch(BATCH_SIZE, drop_remainder=True)\n"
      ],
      "metadata": {
        "id": "p8BAJJft7hW2"
      },
      "execution_count": null,
      "outputs": []
    },
    {
      "cell_type": "markdown",
      "source": [
        "## Model setup\n"
      ],
      "metadata": {
        "id": "HpHqxiSD9rK5"
      }
    },
    {
      "cell_type": "code",
      "source": [
        "keras.backend.clear_session()\n",
        "tf.random.set_seed(21)\n",
        "np.random.seed(21)\n",
        "\n",
        "LATENT_DIM = 100\n",
        "LEARNING_RATE = 2e-3\n",
        "CLASS_LABELS = 10\n",
        "NUM_FEATURE_MAP = 256\n",
        "\n",
        "model_cgan = CGAN_MNIST_Fashion(latent_dim=LATENT_DIM,\n",
        "                                num_feature_map=NUM_FEATURE_MAP,\n",
        "                                dropout=0.45,\n",
        "                                alpha=0.2,\n",
        "                                image_size=(28, 28, 1),\n",
        "                                class_labels=CLASS_LABELS)\n",
        "\n",
        "gen_optimizer = keras.optimizers.Adam(LEARNING_RATE, 0.5)\n",
        "disc_optimizer = keras.optimizers.Adam(LEARNING_RATE, 0.5)\n",
        "\n",
        "fixed_z = tf.random.normal([16, LATENT_DIM])\n",
        "fixed_label = tf.random.uniform([16], minval=0, maxval=10, dtype=tf.int32)\n"
      ],
      "metadata": {
        "id": "0EnDD9E09tuI"
      },
      "execution_count": null,
      "outputs": []
    },
    {
      "cell_type": "markdown",
      "source": [
        "## Train the CGAN model\n"
      ],
      "metadata": {
        "id": "6adsBHRE9v6B"
      }
    },
    {
      "cell_type": "code",
      "source": [
        "NUM_EPOCHS = 30\n",
        "\n",
        "gen_losses, disc_losses, gen_grad_norms, disc_grad_norms = utils.train_model(\n",
        "    model=model_cgan,\n",
        "    gen_optimizer=gen_optimizer,\n",
        "    disc_optimizer=disc_optimizer,\n",
        "    train_dataset=train_dataset,\n",
        "    num_epochs=NUM_EPOCHS,\n",
        "    fixed_z=fixed_z,\n",
        "    fixed_label=fixed_label,\n",
        "    loss_type='vanilla',\n",
        "    lambda_gp=10.0,\n",
        "    clip_norm=True,\n",
        "    max_norm=5.0\n",
        ")\n"
      ],
      "metadata": {
        "id": "Qyl0h6eE90Z1"
      },
      "execution_count": null,
      "outputs": []
    },
    {
      "cell_type": "markdown",
      "source": [
        "## Plot training curves\n"
      ],
      "metadata": {
        "id": "EZ70cxKL927g"
      }
    },
    {
      "cell_type": "code",
      "source": [
        "df = pd.DataFrame({\n",
        "    'gen_loss': gen_losses,\n",
        "    'disc_loss': disc_losses,\n",
        "    'gen_grad_norm': gen_grad_norms,\n",
        "    'disc_grad_norm': disc_grad_norms\n",
        "})\n",
        "\n",
        "df[['gen_grad_norm', 'disc_grad_norm']].plot(figsize=(8, 5), title=\"Gradient Norms\")\n",
        "plt.grid()\n",
        "plt.xlabel(\"Epoch\")\n",
        "plt.ylabel(\"L2 Norm\")\n",
        "plt.show()\n",
        "\n",
        "df[['gen_loss', 'disc_loss']].plot(figsize=(8, 5), title=\"Generator and Discriminator Loss\")\n",
        "plt.grid()\n",
        "plt.xlabel(\"Epoch\")\n",
        "plt.ylabel(\"Loss\")\n",
        "plt.show()\n"
      ],
      "metadata": {
        "id": "L4v5CwzB95-b"
      },
      "execution_count": null,
      "outputs": []
    },
    {
      "cell_type": "markdown",
      "source": [
        "## Generate sample images for selected classes\n"
      ],
      "metadata": {
        "id": "65pzVbXG98x_"
      }
    },
    {
      "cell_type": "code",
      "source": [
        "for label in [1, 3, 7, 9]:\n",
        "    utils.plot_generated_images_tf(model_cgan,\n",
        "                                   digit_label=label,\n",
        "                                   latent_dim=LATENT_DIM,\n",
        "                                   grid_dim=4,\n",
        "                                   dim1=0,\n",
        "                                   dim2=1)\n"
      ],
      "metadata": {
        "id": "Eg02J65K9_Tl"
      },
      "execution_count": null,
      "outputs": []
    },
    {
      "cell_type": "markdown",
      "source": [
        "## Conclusion\n",
        "\n",
        "In this notebook, we successfully trained a Conditional GAN (CGAN) on the Fashion-MNIST dataset.  \n",
        "The model learned to generate realistic, class-conditional fashion images, demonstrated by the generated samples.  \n",
        "\n",
        "We also monitored training stability through generator and discriminator loss curves as well as gradient norms.  \n",
        "This CGAN framework can be further extended or adapted for other datasets and conditional image generation tasks.\n"
      ],
      "metadata": {
        "id": "Mlg7Vkkj-Hz7"
      }
    }
  ]
}